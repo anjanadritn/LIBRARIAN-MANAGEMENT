{
  "nbformat": 4,
  "nbformat_minor": 0,
  "metadata": {
    "colab": {
      "provenance": [],
      "authorship_tag": "ABX9TyMa/SKMfYJCYvCw9Ayv7aEm",
      "include_colab_link": true
    },
    "kernelspec": {
      "name": "python3",
      "display_name": "Python 3"
    },
    "language_info": {
      "name": "python"
    }
  },
  "cells": [
    {
      "cell_type": "markdown",
      "metadata": {
        "id": "view-in-github",
        "colab_type": "text"
      },
      "source": [
        "<a href=\"https://colab.research.google.com/github/anjanadritn/LIBRARIAN-MANAGEMENT/blob/main/skill_lab2.ipynb\" target=\"_parent\"><img src=\"https://colab.research.google.com/assets/colab-badge.svg\" alt=\"Open In Colab\"/></a>"
      ]
    },
    {
      "cell_type": "code",
      "execution_count": null,
      "metadata": {
        "colab": {
          "base_uri": "https://localhost:8080/"
        },
        "id": "AIh5dIKH5ojH",
        "outputId": "900dc1ab-bd29-4d19-a68b-a9f92921410a"
      },
      "outputs": [
        {
          "output_type": "stream",
          "name": "stdout",
          "text": [
            "can you guess a number in my mind?\n",
            "enter your guess:6\n",
            "better luck next time .the number was10\n"
          ]
        }
      ],
      "source": [
        "import random\n",
        "number=random.randint(1,10)\n",
        "print('can you guess a number in my mind?')\n",
        "guess=int(input('enter your guess:'))\n",
        "if guess==number:\n",
        "  print('congradulation u guessed number is correct')\n",
        "else:\n",
        "  print(f'better luck next time .the number was{number}')"
      ]
    },
    {
      "cell_type": "code",
      "source": [],
      "metadata": {
        "id": "0E9OKGlIGBYD"
      },
      "execution_count": null,
      "outputs": []
    },
    {
      "cell_type": "markdown",
      "source": [
        "guessing a number"
      ],
      "metadata": {
        "id": "t8PmTriLJcmd"
      }
    },
    {
      "cell_type": "code",
      "source": [
        "import random\n",
        "y=int(random.randint(1,10))\n",
        "print(input('enter your name:'))\n",
        "while True:\n",
        "\n",
        "  x=int(input('guess a number from 1 to 10:'))\n",
        "  if x<y:\n",
        "    print('too low! try again.')\n",
        "  elif x>y:\n",
        "    print('to high! try agin')\n",
        "  else:\n",
        "    print('your guess is correct')\n",
        "    break\n",
        "\n",
        "\n"
      ],
      "metadata": {
        "colab": {
          "base_uri": "https://localhost:8080/"
        },
        "id": "An3cT_km86AH",
        "outputId": "ffa4299c-5904-4210-aec8-c9c4a86a2fd3"
      },
      "execution_count": null,
      "outputs": [
        {
          "output_type": "stream",
          "name": "stdout",
          "text": [
            "enter your name:anjan\n",
            "anjan\n",
            "guess a number from 1 to 10:5\n",
            "to high! try agin\n",
            "guess a number from 1 to 10:4\n",
            "to high! try agin\n",
            "guess a number from 1 to 10:3\n",
            "to high! try agin\n",
            "guess a number from 1 to 10:2\n",
            "your guess is correct\n"
          ]
        }
      ]
    },
    {
      "cell_type": "markdown",
      "source": [],
      "metadata": {
        "id": "Nj0m5GeRNiKL"
      }
    },
    {
      "cell_type": "code",
      "source": [
        "a='anjanaadri'\n",
        "print(a[1])\n",
        "for x in 'banana':\n",
        "  print(x)\n",
        "print(len(x))\n",
        "c='apple'\n",
        "print(len(c))"
      ],
      "metadata": {
        "colab": {
          "base_uri": "https://localhost:8080/"
        },
        "id": "Q5GFLKx9HiQQ",
        "outputId": "66c5cdb6-a7b6-4e50-8df9-4678752ebc12"
      },
      "execution_count": null,
      "outputs": [
        {
          "output_type": "stream",
          "name": "stdout",
          "text": [
            "n\n",
            "b\n",
            "a\n",
            "n\n",
            "a\n",
            "n\n",
            "a\n",
            "1\n",
            "5\n"
          ]
        }
      ]
    },
    {
      "cell_type": "markdown",
      "source": [
        "in"
      ],
      "metadata": {
        "id": "FIOYI9iINYAr"
      }
    },
    {
      "cell_type": "code",
      "source": [
        "texxt='take what u can give nothing back'\n",
        "print('backs' in texxt)"
      ],
      "metadata": {
        "colab": {
          "base_uri": "https://localhost:8080/"
        },
        "id": "43-zPvFJJ0X_",
        "outputId": "04c47d2e-30fd-4b26-bc36-44a8610835d7"
      },
      "execution_count": null,
      "outputs": [
        {
          "output_type": "stream",
          "name": "stdout",
          "text": [
            "False\n"
          ]
        }
      ]
    },
    {
      "cell_type": "markdown",
      "source": [
        "not in"
      ],
      "metadata": {
        "id": "ZKlhvn2CNa4m"
      }
    },
    {
      "cell_type": "code",
      "source": [
        "texxt='take what u can give nothing back'\n",
        "print('backs'not in texxt)"
      ],
      "metadata": {
        "colab": {
          "base_uri": "https://localhost:8080/"
        },
        "id": "B6VuZLMvMHrc",
        "outputId": "3172bbf1-ee44-4e84-c964-a5d4f503f13f"
      },
      "execution_count": null,
      "outputs": [
        {
          "output_type": "stream",
          "name": "stdout",
          "text": [
            "True\n"
          ]
        }
      ]
    },
    {
      "cell_type": "code",
      "source": [
        "a='anjanadri is good boy'\n",
        "print(a[1:8:2])\n",
        "print(a[2:])\n",
        "print(a[-5:-2])\n",
        "print(a.upper())\n",
        "print(a.lower())\n",
        "print(a.strip())\n",
        "print(a.replace('a','A'))\n",
        "print(a.split(','))\n",
        "\n"
      ],
      "metadata": {
        "colab": {
          "base_uri": "https://localhost:8080/"
        },
        "id": "dOseG1jANVkN",
        "outputId": "acb54288-d314-46a4-8885-fe0b4179a4c6"
      },
      "execution_count": null,
      "outputs": [
        {
          "output_type": "stream",
          "name": "stdout",
          "text": [
            "naar\n",
            "janadri is good boy\n",
            "d b\n",
            "ANJANADRI IS GOOD BOY\n",
            "anjanadri is good boy\n",
            "anjanadri is good boy\n",
            "AnjAnAdri is good boy\n",
            "['anjanadri is good boy']\n"
          ]
        }
      ]
    },
    {
      "cell_type": "markdown",
      "source": [
        "modifing string"
      ],
      "metadata": {
        "id": "mYlOO5N9P8ox"
      }
    },
    {
      "cell_type": "code",
      "source": [
        "def anjanadri():\n",
        "  print('hi anjanadri')\n",
        "  print('hengidiya')\n",
        "anjanadri()"
      ],
      "metadata": {
        "colab": {
          "base_uri": "https://localhost:8080/"
        },
        "id": "v3zZMR_UOdro",
        "outputId": "9a7b9e44-1cdd-4a32-d9d6-a3896ab1751f"
      },
      "execution_count": null,
      "outputs": [
        {
          "output_type": "stream",
          "name": "stdout",
          "text": [
            "hi anjanadri\n",
            "hengidiya\n"
          ]
        }
      ]
    },
    {
      "cell_type": "code",
      "source": [
        "def my_fun(fname,lname):\n",
        "  print(fname  +' '+ lname)\n",
        "my_fun('anjanadri','tn')\n",
        "\n"
      ],
      "metadata": {
        "colab": {
          "base_uri": "https://localhost:8080/"
        },
        "id": "9gnhgeExapw_",
        "outputId": "06fbd608-c922-4433-d5a1-05bbfbf83c87"
      },
      "execution_count": null,
      "outputs": [
        {
          "output_type": "stream",
          "name": "stdout",
          "text": [
            "anjanadri tn\n"
          ]
        }
      ]
    },
    {
      "cell_type": "markdown",
      "source": [
        "#orbitary argument(*args)"
      ],
      "metadata": {
        "id": "FNRJGSfZemPK"
      }
    },
    {
      "cell_type": "code",
      "source": [
        "def my_fun(*kids):\n",
        "  print('the youngest child is'+ kids[2])\n",
        "\n",
        "my_fun('anjnadri','rohan','rahul')"
      ],
      "metadata": {
        "colab": {
          "base_uri": "https://localhost:8080/"
        },
        "id": "cXJnmFZNcEME",
        "outputId": "866daaba-554b-4aab-c7f1-61dfbb9eca65"
      },
      "execution_count": null,
      "outputs": [
        {
          "output_type": "stream",
          "name": "stdout",
          "text": [
            "the youngest child israhul\n"
          ]
        }
      ]
    },
    {
      "cell_type": "markdown",
      "source": [
        "keyword argument"
      ],
      "metadata": {
        "id": "-NXdE0nhf-dw"
      }
    },
    {
      "cell_type": "code",
      "source": [
        "def my_fun(student1,student2,student3):\n",
        "  print('the youngest student is '+ student3)\n",
        "my_fun('anjanadri','rahul','amy')"
      ],
      "metadata": {
        "colab": {
          "base_uri": "https://localhost:8080/"
        },
        "id": "o-o_KXyOfZsm",
        "outputId": "e932fdd3-936e-4e34-929f-e4251d28dd68"
      },
      "execution_count": null,
      "outputs": [
        {
          "output_type": "stream",
          "name": "stdout",
          "text": [
            "the youngest student is amy\n"
          ]
        }
      ]
    },
    {
      "cell_type": "code",
      "source": [
        "def my_con(country='india'):\n",
        "  print('i am from       ' +country)\n",
        "my_con('swedan')\n",
        "my_con('usa')\n",
        "my_con()\n",
        "my_con('russia')"
      ],
      "metadata": {
        "colab": {
          "base_uri": "https://localhost:8080/"
        },
        "id": "QxbQpeuTl0Tb",
        "outputId": "aac27722-a251-4772-f275-7fbbf7ddb2ea"
      },
      "execution_count": null,
      "outputs": [
        {
          "output_type": "stream",
          "name": "stdout",
          "text": [
            "i am from       swedan\n",
            "i am from       usa\n",
            "i am from       india\n",
            "i am from       russia\n"
          ]
        }
      ]
    },
    {
      "cell_type": "code",
      "source": [
        "def table_fun_5():\n",
        "    number = 5\n",
        "    for i in range(1, 10):\n",
        "        print(f\"{number} x {i} = {number * i}\")\n",
        "print_table_of_5()\n"
      ],
      "metadata": {
        "colab": {
          "base_uri": "https://localhost:8080/"
        },
        "id": "dymN--fwnVOO",
        "outputId": "a7ce6535-e053-4d5b-9c27-5b7d62912796"
      },
      "execution_count": null,
      "outputs": [
        {
          "output_type": "stream",
          "name": "stdout",
          "text": [
            "5 x 1 = 5\n",
            "5 x 2 = 10\n",
            "5 x 3 = 15\n",
            "5 x 4 = 20\n",
            "5 x 5 = 25\n",
            "5 x 6 = 30\n",
            "5 x 7 = 35\n",
            "5 x 8 = 40\n",
            "5 x 9 = 45\n",
            "5 x 10 = 50\n"
          ]
        }
      ]
    },
    {
      "cell_type": "code",
      "source": [
        "def my_fun(x):\n",
        "  return 5*x\n",
        "print(my_fun(1))\n",
        "print(my_fun(2))\n",
        "print(my_fun(3))\n",
        "print(my_fun(4))\n",
        "print(my_fun(5))\n",
        "print(my_fun(6))\n",
        "print(my_fun(7))\n",
        "print(my_fun(8))\n",
        "print(my_fun(9))\n",
        "print(my_fun(1000000))\n",
        "print(my_fun(1000000000))\n"
      ],
      "metadata": {
        "colab": {
          "base_uri": "https://localhost:8080/"
        },
        "id": "xC2YZGbWqIcx",
        "outputId": "33d1b706-8edb-4588-8b52-0d84d716d1e8"
      },
      "execution_count": null,
      "outputs": [
        {
          "output_type": "stream",
          "name": "stdout",
          "text": [
            "5\n",
            "10\n",
            "15\n",
            "20\n",
            "25\n",
            "30\n",
            "35\n",
            "40\n",
            "45\n",
            "5000000\n",
            "5000000000\n"
          ]
        }
      ]
    },
    {
      "cell_type": "code",
      "source": [
        "def factorial(n):\n",
        "  if n==1:\n",
        "    return 1\n",
        "  else:\n",
        "      return n*factorial(n-1)\n",
        "factorial(3)"
      ],
      "metadata": {
        "colab": {
          "base_uri": "https://localhost:8080/"
        },
        "id": "hf3kxxJ8rGfI",
        "outputId": "caeca92c-ea96-4257-8045-9ff5c9ec6db7"
      },
      "execution_count": null,
      "outputs": [
        {
          "output_type": "execute_result",
          "data": {
            "text/plain": [
              "6"
            ]
          },
          "metadata": {},
          "execution_count": 100
        }
      ]
    },
    {
      "cell_type": "code",
      "source": [
        "def fib(n):\n",
        "  if n <=1:\n",
        "    return n\n",
        "  else:\n",
        "    return fib(n-1)+fib(n-2)\n",
        "term=int(input('enter the number terms'))\n",
        "if term<=0:\n",
        "  print('enter a positive positive integer')\n",
        "else:\n",
        "  print('fibonacci series:')\n",
        "  for i in range (term):\n",
        "    print(fib(i))"
      ],
      "metadata": {
        "id": "4hPoPVtFtChc",
        "colab": {
          "base_uri": "https://localhost:8080/"
        },
        "outputId": "8936577d-e7ce-4fdf-f10b-40ac95951d86"
      },
      "execution_count": null,
      "outputs": [
        {
          "output_type": "stream",
          "name": "stdout",
          "text": [
            "enter the number terms7\n",
            "fibonacci series:\n",
            "0\n",
            "1\n",
            "1\n",
            "2\n",
            "3\n",
            "5\n",
            "8\n"
          ]
        }
      ]
    },
    {
      "cell_type": "markdown",
      "source": [
        "Data structure:\n",
        "it is way of organizing or storing the data   most suffient in a memory\n",
        "algorithum:\n",
        "it is step by step procedure to solve perticular problem"
      ],
      "metadata": {
        "id": "LaK2rCQ-KCfd"
      }
    },
    {
      "cell_type": "code",
      "source": [
        "#list : it is built in data structure to store multiple value in single variable\n",
        "'''\n",
        "features of a list :\n",
        ">>>its mutable\n",
        ">>its ordered\n",
        ">>>its allows duplicate values[1,2,3,4,5,7,5]\n",
        "'''\n",
        "thislist=['apple','banana','cherry']\n",
        "print(thislist)\n",
        "print(len(thislist))\n",
        "print(thislist[0])\n"
      ],
      "metadata": {
        "id": "YksgzvNUETTR",
        "colab": {
          "base_uri": "https://localhost:8080/"
        },
        "outputId": "691a7435-02ab-44e7-b41c-7d6284e276e6"
      },
      "execution_count": null,
      "outputs": [
        {
          "output_type": "stream",
          "name": "stdout",
          "text": [
            "['apple', 'banana', 'cherry']\n",
            "3\n",
            "apple\n"
          ]
        }
      ]
    },
    {
      "cell_type": "code",
      "source": [
        "#list : it is built in data structure to store multiple value in single variable\n",
        "'''\n",
        "features of a list :\n",
        ">>>its mutable\n",
        ">>its ordered\n",
        ">>>its allows duplicate values[1,2,3,4,5,7,5]\n",
        "'''\n",
        "#printing a lenth of list\n",
        "thislist=['apple','banana','cherry']\n",
        "print(thislist)\n",
        "print(len(thislist))\n",
        "print(thislist[0])\n",
        "print(thislist[-1])\n",
        "\n",
        "#checking for element in a list\n",
        "if 'apple' in thislist:\n",
        "  print('yes apple is there in this list')\n",
        "if 'apple' not in thislist:\n",
        "  print('yes apple is there in this list')\n",
        "\n",
        "thislist[1]='mango'\n",
        "print(thislist)\n",
        "thislist[2]='koushik'\n",
        "print(thislist)\n",
        "#inerting values in the list at the specified position\n",
        "thislist.insert(3,'shanda')\n",
        "print(thislist)\n",
        "# appending a new values in list\n",
        "thislist.append('orange')\n",
        "print(thislist)\n"
      ],
      "metadata": {
        "colab": {
          "base_uri": "https://localhost:8080/"
        },
        "outputId": "0cb33e45-4b15-42f0-80cd-1bcf2a3d2442",
        "id": "nZppQfbxWDrj"
      },
      "execution_count": null,
      "outputs": [
        {
          "output_type": "stream",
          "name": "stdout",
          "text": [
            "['apple', 'banana', 'cherry']\n",
            "3\n",
            "apple\n",
            "cherry\n",
            "yes apple is there in this list\n",
            "['apple', 'mango', 'cherry']\n",
            "['apple', 'mango', 'koushik']\n",
            "['apple', 'mango', 'koushik', 'shanda']\n",
            "['apple', 'mango', 'koushik', 'shanda', 'orange']\n"
          ]
        }
      ]
    },
    {
      "cell_type": "code",
      "source": [
        "#removing the values from the list\n",
        "thislist.remove('shanda')\n",
        "print(thislist)"
      ],
      "metadata": {
        "colab": {
          "base_uri": "https://localhost:8080/"
        },
        "id": "Owo2I3DzU4rP",
        "outputId": "6cebea49-dc72-4b77-d5bf-4a6de637d89f"
      },
      "execution_count": null,
      "outputs": [
        {
          "output_type": "stream",
          "name": "stdout",
          "text": [
            "['apple', 'mango', 'koushik', 'orange']\n"
          ]
        }
      ]
    },
    {
      "cell_type": "code",
      "source": [
        "#adding the items to one list to another list\n",
        "thislist=['apple','koushik','mango']\n",
        "newlist=['abhi pro','sugarcane','grapes']\n",
        "thislist.extend(newlist)\n",
        "print(thislist)"
      ],
      "metadata": {
        "colab": {
          "base_uri": "https://localhost:8080/"
        },
        "id": "R-90vMbZZsuD",
        "outputId": "9f515363-367a-42e3-b346-99d35dd0ef76"
      },
      "execution_count": null,
      "outputs": [
        {
          "output_type": "stream",
          "name": "stdout",
          "text": [
            "['apple', 'koushik', 'mango', 'abhi pro', 'sugarcane', 'grapes']\n"
          ]
        }
      ]
    },
    {
      "cell_type": "code",
      "source": [
        "#pop elements from the list\n",
        "thislist.pop(1)\n",
        "print (thislist)"
      ],
      "metadata": {
        "colab": {
          "base_uri": "https://localhost:8080/"
        },
        "id": "Wah6xrIqaXpN",
        "outputId": "f3008fc8-09e1-416c-a530-df0cc0dd9829"
      },
      "execution_count": null,
      "outputs": [
        {
          "output_type": "stream",
          "name": "stdout",
          "text": [
            "['apple', 'mango', 'abhi pro', 'sugarcane', 'grapes']\n"
          ]
        }
      ]
    },
    {
      "cell_type": "code",
      "source": [
        "#deleting the entire list\n",
        "'''del thislist\n",
        "print(thislist)\n",
        "\n",
        "\n",
        "#looping the list\n",
        "thislist=['apple','banana','cherry']\n",
        "for i in thislist:\n",
        "  print(i)\n",
        "  for i in range(len(thislist)):\n",
        "thislist=['apple','mango','grapes']'''\n",
        "\n",
        "'''#clearing the list\n",
        "thislist.clear()\n",
        "print(thislist)'''\n",
        "\n",
        "\n",
        "#looping the list\n",
        "thislist=['apple','banana','cherry']\n",
        "for i in thislist:\n",
        "  print(i)\n",
        "  for i in rangst\n",
        "thislist=['apple','banana','cherry']\n",
        "for i in thislist:\n",
        "  print(i)\n",
        "  for i in range(len(thislist)):\n",
        "    print(thislist[i])\n",
        "\n",
        "i=0\n",
        "while i < len(thislist):\n",
        "  print(thislist[i])\n",
        "  i=i+1"
      ],
      "metadata": {
        "id": "fWUvfHWibbkT",
        "colab": {
          "base_uri": "https://localhost:8080/"
        },
        "outputId": "22dbd196-abbd-401e-fd4f-8f63978d1acd"
      },
      "execution_count": null,
      "outputs": [
        {
          "output_type": "stream",
          "name": "stdout",
          "text": [
            "apple\n",
            "apple\n",
            "banana\n",
            "cherry\n",
            "banana\n",
            "apple\n",
            "banana\n",
            "cherry\n",
            "cherry\n",
            "apple\n",
            "banana\n",
            "cherry\n",
            "apple\n",
            "banana\n",
            "cherry\n"
          ]
        }
      ]
    },
    {
      "cell_type": "markdown",
      "source": [
        "tuples:this is immutable\n",
        "      : allows duplicate values\n",
        "      :orderd unchangable"
      ],
      "metadata": {
        "id": "B3yHo0uaMUsA"
      }
    },
    {
      "cell_type": "code",
      "source": [
        "thistuple=('apple','banana','cherry')\n",
        "print(thistuple)\n",
        "thistuple=('apple','banana','cherry','apple','cherry')\n",
        "print(thistuple)\n"
      ],
      "metadata": {
        "colab": {
          "base_uri": "https://localhost:8080/"
        },
        "id": "XBGoDevCL0T8",
        "outputId": "27f65ee3-cc4e-48c6-a2cc-455110c1ad70"
      },
      "execution_count": null,
      "outputs": [
        {
          "output_type": "stream",
          "name": "stdout",
          "text": [
            "('apple', 'banana', 'cherry')\n",
            "('apple', 'banana', 'cherry', 'apple', 'cherry')\n"
          ]
        }
      ]
    },
    {
      "cell_type": "code",
      "source": [
        "print(len(thistuple))"
      ],
      "metadata": {
        "colab": {
          "base_uri": "https://localhost:8080/"
        },
        "id": "XXaBZIDhNS2x",
        "outputId": "45598736-4e3a-4f08-a89c-e669de62de0b"
      },
      "execution_count": null,
      "outputs": [
        {
          "output_type": "stream",
          "name": "stdout",
          "text": [
            "5\n"
          ]
        }
      ]
    },
    {
      "cell_type": "code",
      "source": [
        "thistuple=('apple')\n",
        "print(thistuple)"
      ],
      "metadata": {
        "colab": {
          "base_uri": "https://localhost:8080/"
        },
        "id": "KHAG3PMYONpX",
        "outputId": "d67c0463-a96f-4716-bb46-01e3828f20d2"
      },
      "execution_count": null,
      "outputs": [
        {
          "output_type": "stream",
          "name": "stdout",
          "text": [
            "apple\n"
          ]
        }
      ]
    },
    {
      "cell_type": "code",
      "source": [
        "thistuple=('apple')\n",
        "print(type(thistuple))"
      ],
      "metadata": {
        "colab": {
          "base_uri": "https://localhost:8080/"
        },
        "id": "bG4RSeIOO4FW",
        "outputId": "e37e5b62-f96f-4809-ced5-a1823c722d2b"
      },
      "execution_count": null,
      "outputs": [
        {
          "output_type": "stream",
          "name": "stdout",
          "text": [
            "<class 'str'>\n"
          ]
        }
      ]
    },
    {
      "cell_type": "code",
      "source": [
        "thistuple=('apple','banana','cherry')\n",
        "print(thistuple[1])"
      ],
      "metadata": {
        "colab": {
          "base_uri": "https://localhost:8080/"
        },
        "id": "PBcdKJxzPsW2",
        "outputId": "505c8b0a-a668-4e5f-e5be-412cdf0560f9"
      },
      "execution_count": null,
      "outputs": [
        {
          "output_type": "stream",
          "name": "stdout",
          "text": [
            "banana\n"
          ]
        }
      ]
    },
    {
      "cell_type": "code",
      "source": [
        "'''#adding one tuple with another\n",
        "thistuple=('apple','banana','cherry')\n",
        "sectuple=('orange',)\n",
        "thistuple += sectuple\n",
        "print(thistuple)"
      ],
      "metadata": {
        "colab": {
          "base_uri": "https://localhost:8080/"
        },
        "id": "S82pk3_HQDSP",
        "outputId": "1210ee21-dfea-436e-8ff0-0fb29be5b8ba"
      },
      "execution_count": null,
      "outputs": [
        {
          "output_type": "stream",
          "name": "stdout",
          "text": [
            "('apple', 'banana', 'cherry', 'orange')\n"
          ]
        }
      ]
    },
    {
      "cell_type": "code",
      "source": [
        "'''thistuple=('apple','banana','cherry')\n",
        "y=list(thistuple)\n",
        "y.remove('apple')\n",
        "thistuple=tuple(y)\n",
        "print(thistuple)'''"
      ],
      "metadata": {
        "colab": {
          "base_uri": "https://localhost:8080/"
        },
        "id": "1-3v0JWuQnHL",
        "outputId": "75ed630a-775b-460d-924e-9ddf6b9d2e84"
      },
      "execution_count": null,
      "outputs": [
        {
          "output_type": "stream",
          "name": "stdout",
          "text": [
            "('banana', 'cherry')\n"
          ]
        }
      ]
    },
    {
      "cell_type": "code",
      "source": [
        "'''#using the de keyword throug which e can delete entire tuple\n",
        "del thistuple\n",
        "print(thistuple)'''"
      ],
      "metadata": {
        "colab": {
          "base_uri": "https://localhost:8080/",
          "height": 176
        },
        "id": "rATOEKEYYqIj",
        "outputId": "2f292200-4d7a-4fb1-b67f-3e420b0a48e7"
      },
      "execution_count": null,
      "outputs": [
        {
          "output_type": "error",
          "ename": "NameError",
          "evalue": "name 'thistuple' is not defined",
          "traceback": [
            "\u001b[0;31m---------------------------------------------------------------------------\u001b[0m",
            "\u001b[0;31mNameError\u001b[0m                                 Traceback (most recent call last)",
            "\u001b[0;32m<ipython-input-21-e648828a3b02>\u001b[0m in \u001b[0;36m<cell line: 2>\u001b[0;34m()\u001b[0m\n\u001b[1;32m      1\u001b[0m \u001b[0;31m#using the de keyword throug which e can delete entire tuple\u001b[0m\u001b[0;34m\u001b[0m\u001b[0;34m\u001b[0m\u001b[0m\n\u001b[0;32m----> 2\u001b[0;31m \u001b[0;32mdel\u001b[0m \u001b[0mthistuple\u001b[0m\u001b[0;34m\u001b[0m\u001b[0;34m\u001b[0m\u001b[0m\n\u001b[0m\u001b[1;32m      3\u001b[0m \u001b[0mprint\u001b[0m\u001b[0;34m(\u001b[0m\u001b[0mthistuple\u001b[0m\u001b[0;34m)\u001b[0m\u001b[0;34m\u001b[0m\u001b[0;34m\u001b[0m\u001b[0m\n",
            "\u001b[0;31mNameError\u001b[0m: name 'thistuple' is not defined"
          ]
        }
      ]
    },
    {
      "cell_type": "code",
      "source": [
        "#looping in tuple\n",
        "thistuple=('apple','banana','cherry')\n",
        "for i in thistuple:\n",
        "  print(i)"
      ],
      "metadata": {
        "colab": {
          "base_uri": "https://localhost:8080/"
        },
        "id": "7mHVV3ZvZcpV",
        "outputId": "d97d0001-8f90-44c1-ab76-51c416ef667e"
      },
      "execution_count": null,
      "outputs": [
        {
          "output_type": "stream",
          "name": "stdout",
          "text": [
            "apple\n",
            "banana\n",
            "cherry\n"
          ]
        }
      ]
    },
    {
      "cell_type": "code",
      "source": [
        "thistuple=('apple','banana','cherry')\n",
        "i=0\n",
        "while i <len(thistuple):\n",
        "  print(thistuple[i])\n",
        "  i=i+1"
      ],
      "metadata": {
        "colab": {
          "base_uri": "https://localhost:8080/"
        },
        "id": "PRMc7B5aaGq7",
        "outputId": "d00f768d-8ea0-4602-f125-ac1dc4998c23"
      },
      "execution_count": null,
      "outputs": [
        {
          "output_type": "stream",
          "name": "stdout",
          "text": [
            "apple\n",
            "banana\n",
            "cherry\n"
          ]
        }
      ]
    },
    {
      "cell_type": "code",
      "source": [
        "tuple1=('a','b','c')\n",
        "tuple2=(1,2,3)\n",
        "tuple3=tuple1+tuple2\n",
        "print(tuple3)"
      ],
      "metadata": {
        "colab": {
          "base_uri": "https://localhost:8080/"
        },
        "id": "wZgw2erZah_i",
        "outputId": "557f58c9-161e-474c-fee9-263a4ece9400"
      },
      "execution_count": null,
      "outputs": [
        {
          "output_type": "stream",
          "name": "stdout",
          "text": [
            "('a', 'b', 'c', 1, 2, 3)\n"
          ]
        }
      ]
    },
    {
      "cell_type": "code",
      "source": [
        "tuple1=('a','b','c')\n",
        "tuple2=tuple1*2\n",
        "print(tuple2)"
      ],
      "metadata": {
        "colab": {
          "base_uri": "https://localhost:8080/"
        },
        "id": "RaknKfEmbQOg",
        "outputId": "5a66edf6-9f15-4822-bf22-3ae8c23576ef"
      },
      "execution_count": null,
      "outputs": [
        {
          "output_type": "stream",
          "name": "stdout",
          "text": [
            "('a', 'b', 'c', 'a', 'b', 'c')\n"
          ]
        }
      ]
    },
    {
      "cell_type": "markdown",
      "source": [
        "python sets"
      ],
      "metadata": {
        "id": "E9_UCSRGiMH_"
      }
    },
    {
      "cell_type": "code",
      "source": [
        "thisset={'apple','banana','cherry'}\n",
        "print(thisset)\n",
        "# duplicate values are not allowed\n",
        "thisset={'apple','banana','cherry','apple'}\n",
        "print(thisset)\n",
        "#lenth of set\n",
        "print(len(thisset))\n",
        "#looping through the set\n",
        "for i in thisset:\n",
        "  print(i)"
      ],
      "metadata": {
        "colab": {
          "base_uri": "https://localhost:8080/"
        },
        "id": "XbAh0aSfbiDP",
        "outputId": "6743dd84-10cb-4011-8e51-7ee6f0f6ac6c"
      },
      "execution_count": null,
      "outputs": [
        {
          "output_type": "stream",
          "name": "stdout",
          "text": [
            "{'banana', 'cherry', 'apple'}\n",
            "{'banana', 'cherry', 'apple'}\n",
            "3\n",
            "banana\n",
            "cherry\n",
            "apple\n"
          ]
        }
      ]
    },
    {
      "cell_type": "code",
      "source": [
        "#checking whether a perticular value exists in set or not\n",
        "print('banana'in thisset)"
      ],
      "metadata": {
        "colab": {
          "base_uri": "https://localhost:8080/"
        },
        "id": "5D1bjaFvijbn",
        "outputId": "33771509-14ec-467e-e9a4-7de3474132b9"
      },
      "execution_count": null,
      "outputs": [
        {
          "output_type": "stream",
          "name": "stdout",
          "text": [
            "True\n"
          ]
        }
      ]
    },
    {
      "cell_type": "code",
      "source": [
        "print('banana' not in thisset)"
      ],
      "metadata": {
        "colab": {
          "base_uri": "https://localhost:8080/"
        },
        "id": "oQtm43zjkr6y",
        "outputId": "95174931-ea07-4f23-db1b-3a57ad601a5e"
      },
      "execution_count": null,
      "outputs": [
        {
          "output_type": "stream",
          "name": "stdout",
          "text": [
            "False\n"
          ]
        }
      ]
    },
    {
      "cell_type": "code",
      "source": [
        "#adding an item to the set\n",
        "my_set = {1, 2, 3}\n",
        "my_set.add(4)\n",
        "print(my_set)\n"
      ],
      "metadata": {
        "colab": {
          "base_uri": "https://localhost:8080/"
        },
        "id": "hXdcF3Oik_9W",
        "outputId": "ddb4717d-7515-4df3-c15e-3164aa085284"
      },
      "execution_count": null,
      "outputs": [
        {
          "output_type": "stream",
          "name": "stdout",
          "text": [
            "{1, 2, 3, 4}\n"
          ]
        }
      ]
    },
    {
      "cell_type": "code",
      "source": [
        "thisset.add ('orange')\n",
        "print(thisset)"
      ],
      "metadata": {
        "colab": {
          "base_uri": "https://localhost:8080/"
        },
        "id": "nYJ257zQlm9t",
        "outputId": "de383e81-7d76-4af3-920c-66b3a2a63e3f"
      },
      "execution_count": null,
      "outputs": [
        {
          "output_type": "stream",
          "name": "stdout",
          "text": [
            "{'banana', 'cherry', 'orange', 'apple'}\n"
          ]
        }
      ]
    },
    {
      "cell_type": "code",
      "source": [
        "# adding element from one set to another set\n",
        "thisset={'apple','banana','cherry'}\n",
        "otherset={'papaya','koushik','tinda'}\n",
        "thisset.update(otherset)\n",
        "print(thisset)"
      ],
      "metadata": {
        "colab": {
          "base_uri": "https://localhost:8080/"
        },
        "id": "FbokNJ1XnkMO",
        "outputId": "3226119f-0e10-47e4-b90b-c5cea4b33584"
      },
      "execution_count": null,
      "outputs": [
        {
          "output_type": "stream",
          "name": "stdout",
          "text": [
            "{'cherry', 'tinda', 'koushik', 'papaya', 'apple', 'banana'}\n"
          ]
        }
      ]
    },
    {
      "cell_type": "code",
      "source": [
        "thisset. update(otherset)\n",
        "print(thisset)"
      ],
      "metadata": {
        "colab": {
          "base_uri": "https://localhost:8080/"
        },
        "id": "BM51_5jDoW9P",
        "outputId": "c10ec068-ba48-4f32-af3c-7545f0ffb97c"
      },
      "execution_count": null,
      "outputs": [
        {
          "output_type": "stream",
          "name": "stdout",
          "text": [
            "{'cherry', 'koushik', 'tinda', 'banana', 'papaya', 'apple'}\n"
          ]
        }
      ]
    },
    {
      "cell_type": "code",
      "source": [
        "#removing perticular  element in set\n",
        "thisset.remove('banana')\n",
        "print(thisset)\n"
      ],
      "metadata": {
        "colab": {
          "base_uri": "https://localhost:8080/"
        },
        "id": "33Zp-IaRoyQn",
        "outputId": "4db17e57-14aa-45e9-e40f-950116507df7"
      },
      "execution_count": null,
      "outputs": [
        {
          "output_type": "stream",
          "name": "stdout",
          "text": [
            "{'cherry', 'koushik', 'tinda', 'papaya', 'apple'}\n"
          ]
        }
      ]
    },
    {
      "cell_type": "code",
      "source": [
        "#adding a set\n",
        "thisset.add('bananaaaaaaaa')\n",
        "print(thisset)\n",
        "\n"
      ],
      "metadata": {
        "colab": {
          "base_uri": "https://localhost:8080/"
        },
        "id": "7gvKlDnRpJsO",
        "outputId": "27835dee-c153-4533-b184-1e7b20531437"
      },
      "execution_count": null,
      "outputs": [
        {
          "output_type": "stream",
          "name": "stdout",
          "text": [
            "{'cherry', 'koushik', 'tinda', 'bananaaaaaaaa', 'papaya', 'apple'}\n"
          ]
        }
      ]
    },
    {
      "cell_type": "code",
      "source": [
        "#using the clear method to empty set\n",
        "thisset.clear()\n",
        "print(thisset)"
      ],
      "metadata": {
        "colab": {
          "base_uri": "https://localhost:8080/"
        },
        "id": "-iDlzv07pTC2",
        "outputId": "51c4d319-08a7-4cba-8bd3-9306c657d256"
      },
      "execution_count": null,
      "outputs": [
        {
          "output_type": "stream",
          "name": "stdout",
          "text": [
            "set()\n"
          ]
        }
      ]
    },
    {
      "cell_type": "code",
      "source": [
        "thisset={'apple','banana','cherry'}\n",
        "for i in thisset:\n",
        "  print(i)"
      ],
      "metadata": {
        "colab": {
          "base_uri": "https://localhost:8080/"
        },
        "id": "fDdS5ys9qNre",
        "outputId": "1f3c12aa-d891-4f1e-bd16-a14e5c5d2e78"
      },
      "execution_count": null,
      "outputs": [
        {
          "output_type": "stream",
          "name": "stdout",
          "text": [
            "banana\n",
            "cherry\n",
            "apple\n"
          ]
        }
      ]
    },
    {
      "cell_type": "code",
      "source": [
        "#joining of two sets\n",
        "set1={'a','b','c'}\n",
        "set2={1,2,3}\n",
        "set3=set1.union(set2)\n",
        "print(set3)\n"
      ],
      "metadata": {
        "colab": {
          "base_uri": "https://localhost:8080/"
        },
        "id": "tsiQSq8QrjZv",
        "outputId": "4411a168-8c60-40fe-e66f-52892095548b"
      },
      "execution_count": null,
      "outputs": [
        {
          "output_type": "stream",
          "name": "stdout",
          "text": [
            "{'a', 'b', 1, 2, 3, 'c'}\n"
          ]
        }
      ]
    },
    {
      "cell_type": "code",
      "source": [
        "#or operator\n",
        "set1={'a','b','c'}\n",
        "set2={1,2,3}\n",
        "set3=set1|set2\n",
        "print(set3)"
      ],
      "metadata": {
        "colab": {
          "base_uri": "https://localhost:8080/"
        },
        "id": "XnlEtQs_sIbQ",
        "outputId": "7113a344-70b5-45b9-f7d6-a361aeeedee0"
      },
      "execution_count": null,
      "outputs": [
        {
          "output_type": "stream",
          "name": "stdout",
          "text": [
            "{'a', 'b', 1, 2, 3, 'c'}\n"
          ]
        }
      ]
    },
    {
      "cell_type": "code",
      "source": [
        "#using the update method to insert values from one set to another\n",
        "set1={'a','b','c'}\n",
        "set2={1,2,3}\n",
        "set1.update(set2)\n",
        "print(set1)"
      ],
      "metadata": {
        "colab": {
          "base_uri": "https://localhost:8080/"
        },
        "id": "IGw6InU0tGwW",
        "outputId": "9ed10d5e-3d46-47f2-c338-f40fa9aebabf"
      },
      "execution_count": null,
      "outputs": [
        {
          "output_type": "stream",
          "name": "stdout",
          "text": [
            "{'a', 'b', 1, 2, 3, 'c'}\n"
          ]
        }
      ]
    },
    {
      "cell_type": "code",
      "source": [
        "set1={1,4,5,3}\n",
        "set2={1,2,3}\n",
        "set3=set1.intersection(set2)\n",
        "print(set3)"
      ],
      "metadata": {
        "colab": {
          "base_uri": "https://localhost:8080/"
        },
        "id": "M0Eo4Jb0t1eS",
        "outputId": "6c52943e-eab4-4f41-ac75-0fb2d0117357"
      },
      "execution_count": null,
      "outputs": [
        {
          "output_type": "stream",
          "name": "stdout",
          "text": [
            "{1, 3}\n"
          ]
        }
      ]
    },
    {
      "cell_type": "code",
      "source": [
        "#keeping all the element from set1 that are not there in  both set\n",
        "set1={1,4,5,3}\n",
        "set2={1,2,3}\n",
        "set3=set1.difference(set2)\n",
        "print(set3)\n"
      ],
      "metadata": {
        "colab": {
          "base_uri": "https://localhost:8080/"
        },
        "id": "VTOBI8k7vjmP",
        "outputId": "7525230c-148c-42f5-898c-381d72abcebb"
      },
      "execution_count": null,
      "outputs": [
        {
          "output_type": "stream",
          "name": "stdout",
          "text": [
            "{4, 5}\n"
          ]
        }
      ]
    },
    {
      "cell_type": "code",
      "source": [
        "set1={1,4,5,3}\n",
        "set2={1,2,3}\n",
        "set3=set1.difference(set2)\n",
        "print(set3)\n"
      ],
      "metadata": {
        "colab": {
          "base_uri": "https://localhost:8080/"
        },
        "id": "2rMLHCdAw-Jp",
        "outputId": "cebb36f8-8e6e-41b9-8a12-b49cd7ebfccf"
      },
      "execution_count": null,
      "outputs": [
        {
          "output_type": "stream",
          "name": "stdout",
          "text": [
            "{4, 5}\n"
          ]
        }
      ]
    },
    {
      "cell_type": "code",
      "source": [
        "#we use the difference_update method to keep the items that are not present in both the set\n",
        "set1={'apple','banana','cherry'}\n",
        "set2={'google','microsoft','apple'}\n",
        "set1.difference_update(set2)\n",
        "print(set1)"
      ],
      "metadata": {
        "colab": {
          "base_uri": "https://localhost:8080/"
        },
        "id": "V00b5Ai7xIRZ",
        "outputId": "d23b84b1-4995-4d2d-f03d-55b73fda2a39"
      },
      "execution_count": null,
      "outputs": [
        {
          "output_type": "stream",
          "name": "stdout",
          "text": [
            "{'banana', 'cherry'}\n"
          ]
        }
      ]
    },
    {
      "cell_type": "code",
      "source": [
        "#ROCK PAPER SCISSORS GAME\n",
        "import random\n",
        "def get_computer_choice():\n",
        "  choices=['rock','paper','scissors']\n",
        "  return random.choice(choices)\n",
        "def get_user_choice():\n",
        "  user_choice=input('enter rock,paper,or scissors:').lower()\n",
        "  while user_choice not in ['rock','paper','scissors']:\n",
        "    print('Invalid choice! please do enter the choice again')\n",
        "    user_choice=input('enter rock,paper,or scissors: ').lower()\n",
        "  return user_choice\n",
        "\n",
        "def determine_winner(user_choice,computer_choice):\n",
        "  if user_choice==computer_choice:\n",
        "    return'its a tie'\n",
        "  if(user_choice=='rock'and computer_choice=='scissors')or\\\n",
        "    (user_choice=='scissors'and computer_choice=='paper')or\\\n",
        "    (user_choice=='paper'and computer_choice=='rock'):\n",
        "    return'you win'\n",
        "  return'computer win'\n",
        "def play_game():\n",
        "  print('welcome to the ROCK PAPER SCISSORS GAME')\n",
        "  user_choice=get_user_choice()\n",
        "  computer_choice=get_computer_choice()\n",
        "  print(f'you chose:{user_choice}')\n",
        "  print(f'computer chose:{computer_choice}')\n",
        "\n",
        "  result=determine_winner(user_choice,computer_choice)\n",
        "  print(result)\n",
        "\n",
        "for i in range(5):\n",
        " play_game()\n",
        " print('\\n')\n",
        "\n",
        "\n",
        "\n",
        "\n"
      ],
      "metadata": {
        "id": "qXoXo1VdzAzC",
        "colab": {
          "base_uri": "https://localhost:8080/"
        },
        "outputId": "b9a7b47a-2ed3-4fb7-8e03-75a95bcea3de"
      },
      "execution_count": null,
      "outputs": [
        {
          "name": "stdout",
          "output_type": "stream",
          "text": [
            "welcome to the ROCK PAPER SCISSORS GAME\n",
            "enter rock,paper,or scissors:rock\n",
            "you chose:rock\n",
            "computer chose:rock\n",
            "its a tie\n",
            "\n",
            "\n",
            "welcome to the ROCK PAPER SCISSORS GAME\n",
            "enter rock,paper,or scissors:paper\n"
          ]
        }
      ]
    },
    {
      "cell_type": "markdown",
      "source": [
        "Dictionary:it is built in data structure which contains data in the form of key value pairs"
      ],
      "metadata": {
        "id": "mIKh3eRCaq8A"
      }
    },
    {
      "cell_type": "code",
      "source": [
        "thisdict={\n",
        "    'brand':'ferrari',\n",
        "    'model':'trminator',\n",
        "    'year':1939,\n",
        "\n",
        "}\n",
        "print(thisdict)\n",
        "\n",
        "\n"
      ],
      "metadata": {
        "id": "hHrQBxflz_4j",
        "colab": {
          "base_uri": "https://localhost:8080/"
        },
        "outputId": "d730532a-b597-4694-d407-0dc734c9b787"
      },
      "execution_count": null,
      "outputs": [
        {
          "output_type": "stream",
          "name": "stdout",
          "text": [
            "{'brand': 'ferrari', 'model': 'trminator', 'year': 2024}\n"
          ]
        }
      ]
    },
    {
      "cell_type": "code",
      "source": [
        "thisdict['year']=2024\n",
        "print(thisdict)"
      ],
      "metadata": {
        "id": "3T5Ugmdof7Xp",
        "colab": {
          "base_uri": "https://localhost:8080/"
        },
        "outputId": "235eea59-f32c-466c-cdb4-cf9433884463"
      },
      "execution_count": null,
      "outputs": [
        {
          "output_type": "stream",
          "name": "stdout",
          "text": [
            "{'brand': 'ferrari', 'model': 'trminator', 'year': 2024, 'color': 'red'}\n"
          ]
        }
      ]
    },
    {
      "cell_type": "code",
      "source": [
        "#adding items to the dictionary\n",
        "thisdict['color']='red'\n",
        "print(thisdict)"
      ],
      "metadata": {
        "colab": {
          "base_uri": "https://localhost:8080/"
        },
        "id": "ea29HCUXhV9a",
        "outputId": "55b0a659-199e-4bce-e235-bcaec870656c"
      },
      "execution_count": null,
      "outputs": [
        {
          "output_type": "stream",
          "name": "stdout",
          "text": [
            "{'brand': 'ferrari', 'model': 'trminator', 'year': 2024, 'color': 'red'}\n"
          ]
        }
      ]
    },
    {
      "cell_type": "code",
      "source": [
        "#using the pop method:its removes an item when we specify a perticular key\n",
        "thisdict.pop('color')\n",
        "print(thisdict)"
      ],
      "metadata": {
        "colab": {
          "base_uri": "https://localhost:8080/"
        },
        "id": "wwVNqDl-htfw",
        "outputId": "b03a2aac-fd91-4be3-bea6-f9c33d580c5c"
      },
      "execution_count": null,
      "outputs": [
        {
          "output_type": "stream",
          "name": "stdout",
          "text": [
            "{'brand': 'ferrari', 'model': 'trminator', 'year': 2024}\n"
          ]
        }
      ]
    },
    {
      "cell_type": "code",
      "source": [
        "# the clear method empties the entire dictionary\n",
        "thisdict.clear()\n",
        "print(thisdict)"
      ],
      "metadata": {
        "colab": {
          "base_uri": "https://localhost:8080/"
        },
        "id": "-mP9qUuEid8Y",
        "outputId": "7d79b8d5-d812-4ebd-bc04-6bf62074e003"
      },
      "execution_count": null,
      "outputs": [
        {
          "output_type": "stream",
          "name": "stdout",
          "text": [
            "{}\n"
          ]
        }
      ]
    },
    {
      "cell_type": "code",
      "source": [
        "#looping in dictonary\n",
        "thisdict={\n",
        "    'brand':'ferrari',\n",
        "    'model':'trminator',\n",
        "    'year':1939,}\n",
        "\n",
        "for i in thisdict:\n",
        "  print(i)"
      ],
      "metadata": {
        "colab": {
          "base_uri": "https://localhost:8080/"
        },
        "id": "Ltfe9r6ni6hO",
        "outputId": "78d348e8-f167-49b5-be56-8aadb0a45544"
      },
      "execution_count": null,
      "outputs": [
        {
          "output_type": "stream",
          "name": "stdout",
          "text": [
            "brand\n",
            "model\n",
            "year\n"
          ]
        }
      ]
    },
    {
      "cell_type": "code",
      "source": [
        "for i in thisdict:\n",
        "  print(i)\n",
        "  for i in thisdict.values():\n",
        "    print(i)"
      ],
      "metadata": {
        "colab": {
          "base_uri": "https://localhost:8080/"
        },
        "id": "iQtnEB45jeMW",
        "outputId": "4d32f0c1-86b1-4f58-dbe8-b2dd631990e5"
      },
      "execution_count": null,
      "outputs": [
        {
          "output_type": "stream",
          "name": "stdout",
          "text": [
            "brand\n",
            "ferrari\n",
            "trminator\n",
            "1939\n",
            "model\n",
            "ferrari\n",
            "trminator\n",
            "1939\n",
            "year\n",
            "ferrari\n",
            "trminator\n",
            "1939\n"
          ]
        }
      ]
    },
    {
      "cell_type": "code",
      "source": [
        "#making a copy of the existing dictionary\n",
        "copydict=dict(thisdict)\n",
        "print(copydict)"
      ],
      "metadata": {
        "colab": {
          "base_uri": "https://localhost:8080/"
        },
        "id": "Xpil7_L0j_fe",
        "outputId": "c0fead4e-109b-4606-d48a-94ec84ecb558"
      },
      "execution_count": null,
      "outputs": [
        {
          "output_type": "stream",
          "name": "stdout",
          "text": [
            "{'brand': 'ferrari', 'model': 'trminator', 'year': 1939}\n"
          ]
        }
      ]
    },
    {
      "cell_type": "markdown",
      "source": [
        "##Algorithums:it is a step by step procedure to solve a specific or perticular problem"
      ],
      "metadata": {
        "id": "eW4RETkxSysj"
      }
    },
    {
      "cell_type": "code",
      "source": [
        "#problem no 1: calculate the sum of two numbers\n",
        "'''\n",
        "the order of complexity of algorithum\n",
        "1.being the fastest\n",
        "8.being of slowest\n",
        "\n",
        "1:o(1)\n",
        "2:o(logn)\n",
        "3:o(n)\n",
        "4:o(n^2)\n",
        "5:o(n^3)\n",
        "6:o(n^k)\n",
        "7:o(2^n)\n",
        "8:o(n!)\n",
        "\n",
        "#1. start\n",
        "2. take two numbers as input\n",
        "3. add the two numbers\n",
        "4. output the result\n",
        "5.end\n",
        "'''\n",
        "def add_numbers():\n",
        "  a=int(input('enter thr 1st number:'))\n",
        "  b=int(input('enter the 2nd number:'))\n",
        "  return a+b\n",
        "print(add_numbers())"
      ],
      "metadata": {
        "id": "5-r7vUKaklRV",
        "colab": {
          "base_uri": "https://localhost:8080/"
        },
        "outputId": "bc5c1e95-540c-4c92-8819-f0f08bbd4689"
      },
      "execution_count": null,
      "outputs": [
        {
          "output_type": "stream",
          "name": "stdout",
          "text": [
            "enter thr 1st number:356\n",
            "enter the 2nd number:3\n",
            "359\n"
          ]
        }
      ]
    },
    {
      "cell_type": "code",
      "source": [
        "'''#1. start\n",
        "2. take flour division as input\n",
        "3. add the two numbers\n",
        "4. output the result\n",
        "5.end'''\n",
        "\n",
        "\n",
        "def floardiv_numbers():\n",
        "  a=int(input('enter thr 1st number:'))\n",
        "  b=int(input('enter the 2nd number:'))\n",
        "  return a//b\n",
        "print(floardiv_numbers())\n",
        "\n"
      ],
      "metadata": {
        "colab": {
          "base_uri": "https://localhost:8080/"
        },
        "id": "GVFlEwSLXSPM",
        "outputId": "f8c6e075-2cfe-4adc-c534-8973f39d4b9c"
      },
      "execution_count": null,
      "outputs": [
        {
          "output_type": "stream",
          "name": "stdout",
          "text": [
            "enter thr 1st number:3\n",
            "enter the 2nd number:4\n",
            "0\n"
          ]
        }
      ]
    },
    {
      "cell_type": "code",
      "source": [
        "#algorithum to find the maximum value in the list\n",
        "'''\n",
        "1.Initialize: Start by assuming the first element of the list is the maximum.\n",
        "2.Iterate: Go through each element of the list one by one.\n",
        "3.Compare: For each element, compare it with the current maximum value.\n",
        "4.Update: If the current element is greater than the current maximum value, update the maximum value.\n",
        "5.Continue: Continue this process until you have checked all elements in the list.\n",
        "6.Result: The final value of the maximum is the largest value in the list.'''\n",
        "def find_max(numbers):\n",
        "  max_value = numbers[0]\n",
        "  for i in numbers:\n",
        "   if i>max_value:\n",
        "    max_vlaue = i\n",
        "  return max_value\n",
        "print(find_max([7,14,1,2]))\n"
      ],
      "metadata": {
        "colab": {
          "base_uri": "https://localhost:8080/"
        },
        "id": "CzcokVy3bEX2",
        "outputId": "9d44391c-195f-4d8e-b029-7843f312ee94"
      },
      "execution_count": null,
      "outputs": [
        {
          "output_type": "stream",
          "name": "stdout",
          "text": [
            "7\n"
          ]
        }
      ]
    },
    {
      "cell_type": "markdown",
      "source": [
        "\n",
        "#algorithum for factorial program"
      ],
      "metadata": {
        "id": "7njuE4XHtZd2"
      }
    },
    {
      "cell_type": "code",
      "source": [
        "'''1.Iterative Method: Simple and efficient for most cases.\n",
        "2.Recursive Method: Elegant but can lead to stack overflow for large nn due to deep recursion.\n",
        "3.Built-in Function: Best for ease and performance if using Python.\n",
        "4.Dynamic Programming: Useful for very large values where you want to avoid recalculations.\n",
        "5.Memoization: Optimizes recursive approach by avoiding repeated calculations.'''\n",
        "def fact(n):\n",
        " if n==1:\n",
        "   return 1\n",
        " else:\n",
        "    return n *fact(n-1)\n",
        "print(fact(5))"
      ],
      "metadata": {
        "colab": {
          "base_uri": "https://localhost:8080/"
        },
        "id": "PnxEfyh8sf-S",
        "outputId": "aa60b6e8-41e0-4518-8799-9825c649382d"
      },
      "execution_count": null,
      "outputs": [
        {
          "output_type": "stream",
          "name": "stdout",
          "text": [
            "120\n"
          ]
        }
      ]
    },
    {
      "cell_type": "code",
      "source": [
        "#problem statement:print the fibonacci series of the no of terms\n",
        "'''\n",
        "1.start\n",
        "2. take the n value\n",
        "3. if n is less than or equal 1 then we return the value of n\n",
        "4. else if the value iiis more then we do fibonacci(n-1)+fibonacci\n",
        "5. print the output\n",
        "6.end'''\n",
        "def fib(n):\n",
        "  if n<= 1:\n",
        "    return n\n",
        "  else:\n",
        "    return fib(n-1)+fib(n-2)\n",
        "terms=int(input('enter the no of terms'))\n",
        "if terms<=0:\n",
        "  print('enter a positive value')\n",
        "else:\n",
        "  print('the fib series will be:')\n",
        "  for i in range (terms):\n",
        "   print(fib(i))"
      ],
      "metadata": {
        "colab": {
          "base_uri": "https://localhost:8080/"
        },
        "id": "b4dsCgK6u9vg",
        "outputId": "a4a21568-ca42-4fcd-951b-56657c5c6484"
      },
      "execution_count": null,
      "outputs": [
        {
          "output_type": "stream",
          "name": "stdout",
          "text": [
            "enter the no of terms4\n",
            "the fib series will be:\n",
            "0\n",
            "1\n",
            "1\n",
            "2\n"
          ]
        }
      ]
    },
    {
      "cell_type": "markdown",
      "source": [
        "# algorithum for pallindrome"
      ],
      "metadata": {
        "id": "Pr9VyjYE0Lh7"
      }
    },
    {
      "cell_type": "code",
      "source": [
        "'''1.start\n",
        "2.take the input as string\n",
        "3.reverse the entered string\n",
        "4.compare the existing string the reversed string\n",
        "5.if they are equal then we print that it is a pallindrome\n",
        "6.end'''\n",
        "def is_pall(word):\n",
        "  reversed_word=word[::-1]\n",
        "  if word==reversed_word:\n",
        "    return True\n",
        "  else:\n",
        "      return False\n",
        "print(is_pall('madam'))"
      ],
      "metadata": {
        "colab": {
          "base_uri": "https://localhost:8080/"
        },
        "id": "gQuHfKEWw2Me",
        "outputId": "3dede306-4ba1-4ee1-a666-20648949b7ce"
      },
      "execution_count": null,
      "outputs": [
        {
          "output_type": "stream",
          "name": "stdout",
          "text": [
            "True\n"
          ]
        }
      ]
    },
    {
      "cell_type": "code",
      "source": [
        "#bubble sort:sorting of a given list bubb;e sort\n",
        "'''\n",
        "1. start\n",
        "2.take the inputs a s array\n",
        "3.consider 2 numbers and compare the 1st value with the adjacent value in array\n",
        "4.if the element are in the wrong order than swap them\n",
        "5.repeat until no more swaps are needed'''\n",
        "\n",
        "def bubble_sort(arr):\n",
        "  n=len(arr)\n",
        "  for i in range(n):\n",
        "    for j in range(0,n-i-1):\n",
        "      if arr[j]>arr[j+1]:\n",
        "          arr[j],arr[j+1]=arr[j+1],arr[j]\n",
        "  return arr\n",
        "print (bubble_sort([7,14,1,6,20]))\n"
      ],
      "metadata": {
        "colab": {
          "base_uri": "https://localhost:8080/"
        },
        "id": "yXunxPd12DLO",
        "outputId": "ceb26041-b7a6-4794-db64-8550f4d22efc"
      },
      "execution_count": null,
      "outputs": [
        {
          "output_type": "stream",
          "name": "stdout",
          "text": [
            "[1, 6, 7, 14, 20]\n"
          ]
        }
      ]
    },
    {
      "cell_type": "code",
      "source": [
        "#linear search: it is a straightforward algorithum that checks\n",
        "#each element in a list , one by one until it finds the element we are\n",
        "#looking for\n",
        "\n",
        "def lin_search(arr,target):\n",
        "  for i in range(len(arr)):\n",
        "    if arr[i]==target:\n",
        "      return i  #print(f'the element found at{i} th index')\n",
        "  return-1\n",
        "numbers=[10,20,30,40,50,]\n",
        "print(lin_search(numbers,40))\n"
      ],
      "metadata": {
        "id": "Zg255nEB8wjC",
        "colab": {
          "base_uri": "https://localhost:8080/"
        },
        "outputId": "07946a3d-0bf6-4568-9a63-2aa35759dfa1"
      },
      "execution_count": null,
      "outputs": [
        {
          "output_type": "stream",
          "name": "stdout",
          "text": [
            "3\n"
          ]
        }
      ]
    },
    {
      "cell_type": "code",
      "source": [
        "# replaced words insted of numbers\n",
        "def lin_search(arr, target):\n",
        "    for i in range(len(arr)):\n",
        "        if arr[i] == target:\n",
        "            return i\n",
        "    return -1\n",
        "words = [\"apple\", \"banana\", \"cherry\", \"grapes\", \"mango\"]\n",
        "print(lin_search(words, \"cherry\"))\n",
        "print(lin_search(words, \"grapes\"))\n"
      ],
      "metadata": {
        "colab": {
          "base_uri": "https://localhost:8080/"
        },
        "id": "PRFJ9_mbXUKy",
        "outputId": "e56826f2-9073-4a69-bc52-fb0f460827b3"
      },
      "execution_count": null,
      "outputs": [
        {
          "output_type": "stream",
          "name": "stdout",
          "text": [
            "2\n",
            "3\n"
          ]
        }
      ]
    },
    {
      "cell_type": "markdown",
      "source": [
        "#Binary search :Binary search is a more efficient search algorithm compared to linear search,O(logn) but it requires that the list be sorted. It works by repeatedly dividing the search interval in half and checking if the target is in the lower or upper half of the interval.\n",
        "#complexity of O(n) in binary search it repeatedly divides the search\n",
        "#the searching interval in half  if the target value is less than midponit we go to the left side if itis more than the midpoint we go to the right and find for the target value\n"
      ],
      "metadata": {
        "id": "1j-XEfqPaAeH"
      }
    },
    {
      "cell_type": "code",
      "source": [
        "def bin_search(arr,target):\n",
        "  left=0\n",
        "  right=len(arr)-1\n",
        "  while left<=right:\n",
        "    mid=(left+right)//2\n",
        "    if arr[mid] == target:\n",
        "      return mid\n",
        "    elif arr[mid]<target:\n",
        "      left=mid\n",
        "    else:\n",
        "        right=mid-1\n",
        "  return-1\n",
        "numbers=[10,20,30,40,50]\n",
        "print(bin_search(numbers,40))\n",
        "\n",
        "\n"
      ],
      "metadata": {
        "colab": {
          "base_uri": "https://localhost:8080/"
        },
        "id": "iQzdxGKPZSWN",
        "outputId": "8cd56f7a-87be-4db9-dcb7-af6861eb9030"
      },
      "execution_count": null,
      "outputs": [
        {
          "output_type": "stream",
          "name": "stdout",
          "text": [
            "3\n"
          ]
        }
      ]
    },
    {
      "cell_type": "code",
      "source": [
        "\n",
        "import random\n",
        "def love_calculate():\n",
        "  print('welcome to love calculator')\n",
        "\n",
        "name1=input('enter the first name:')\n",
        "name2=input('enter the second name:')\n",
        "love_score=random.randint(1,100)\n",
        "print(f'the percentage of love b/w { name1 } and { name2 } is {love_score}%')\n",
        "love_calculate()"
      ],
      "metadata": {
        "colab": {
          "base_uri": "https://localhost:8080/"
        },
        "id": "tbcF63K5gG1j",
        "outputId": "fdf286fb-fc9b-45d1-bfa2-f9349c115db8"
      },
      "execution_count": null,
      "outputs": [
        {
          "output_type": "stream",
          "name": "stdout",
          "text": [
            "enter the first name:abhilash\n",
            "enter the second name:kippi keerthi\n",
            "the percentage of love b/w abhilash and kippi keerthi is 34%\n",
            "welcome to love calculator\n"
          ]
        }
      ]
    },
    {
      "cell_type": "markdown",
      "source": [],
      "metadata": {
        "id": "dA6o05w1xLQX"
      }
    },
    {
      "cell_type": "code",
      "source": [
        "!pip install gradio\n",
        "import gradio as gr\n",
        "#expense tracker were we use linear search and binary search\n",
        "transactions = [\n",
        "{\"date\": \"2024-08-01\", \"amount\": 50.0, \"description\": \"Groceries\"},\n",
        "{\"date\": \"2024-08-02\", \"amount\": 20.0, \"description\": \"Bus fare\"},\n",
        "{\"date\": \"2024-08-03\", \"amount\": 100.0, \"description\": \"Electricity bill\"},\n",
        "{\"date\": \"2024-08-04\", \"amount\": 200.0, \"description\": \"New shoes\"},\n",
        "]\n",
        "#linear search for Transaction by date\n",
        "def search_by_date(transactions,targate_date):\n",
        "  for transaction in transactions:\n",
        "    if transaction[\"date\"] == targate_date:\n",
        "      return transaction\n",
        "  return \"transaction not found\"\n",
        "print(search_by_date(transactions,\"2024-08-02\"))\n"
      ],
      "metadata": {
        "id": "ofVC7I9SiMBp",
        "colab": {
          "base_uri": "https://localhost:8080/"
        },
        "outputId": "b84264c0-e962-4194-d3a9-1a3f2e373289"
      },
      "execution_count": null,
      "outputs": [
        {
          "output_type": "stream",
          "name": "stdout",
          "text": [
            "{'date': '2024-08-02', 'amount': 20.0, 'description': 'Bus fare'}\n"
          ]
        }
      ]
    },
    {
      "cell_type": "markdown",
      "source": [
        "#linked list"
      ],
      "metadata": {
        "id": "uAx_lcKA6Csr"
      }
    },
    {
      "cell_type": "code",
      "source": [
        "#linked list: it consist of multiple noads which are linked to each of thisd perticular nodeso.\n",
        "#which have a certain amount of perticular node provides a pointer or a link to the next node"
      ],
      "metadata": {
        "id": "ih21xPf9px4J"
      },
      "execution_count": null,
      "outputs": []
    },
    {
      "cell_type": "code",
      "source": [
        "'''Types of linked list:\n",
        "1. Ssingly Linked List\n",
        "\n",
        "    Description: Each node contains a single link or reference to the next node in the sequence. It allows traversal in only one direction.\n",
        "2.Doubly Linked List\n",
        "\n",
        "    Description: Each node contains two references: one to the next node and one to the previous node. This allows traversal in both directions.\n",
        "3.Circular Linked List\n",
        "\n",
        "    Description: The last node in the list points back to the first node, forming a circle. This can be implemented as either singly or doubly linked.'''\n",
        "\n"
      ],
      "metadata": {
        "id": "obpp3vPS6FCH"
      },
      "execution_count": null,
      "outputs": []
    },
    {
      "cell_type": "markdown",
      "source": [
        "#ICE CREAM SHOP"
      ],
      "metadata": {
        "id": "kRfC6Xc2m1gn"
      }
    },
    {
      "cell_type": "code",
      "source": [
        "# anjanadri Ice cream shop\n",
        "print('anjanadri ice cream shop')\n",
        "\n",
        "\n",
        "def orange():\n",
        "  r=100\n",
        "  a= int(input('how much ice cream do u want'))\n",
        "  b=r-a\n",
        "  c=a*10\n",
        "  print(f'please pay {c}amount for {a} orange ice cream')\n",
        "  y=input('had you paind it ?')\n",
        "  if y in ('yes','YES','Yes'):\n",
        "    print('Take it,thank you!')\n",
        "  elif y in ('no','NO','No'):\n",
        "    print('come back with money')\n",
        "  else:\n",
        "    print('enter correctly')\n",
        "\n",
        "def straberry():\n",
        "  r=100\n",
        "  a= int(input('how much ice cream do u want'))\n",
        "  b=r-a\n",
        "  c=a*15\n",
        "  print(f'please pay {c}amount for {a} straberry ice cream')\n",
        "  y=input('had you paind it ?')\n",
        "  if y in ('yes','YES','Yes'):\n",
        "    print('Take it,thank you!')\n",
        "  elif y in ('no','NO','No'):\n",
        "    print('come back with money')\n",
        "  else:\n",
        "    print('enter correctly')\n",
        "\n",
        "def venilla():\n",
        "  r=100\n",
        "  a= int(input('how much ice cream do u want'))\n",
        "  b=r-a\n",
        "  c=a*18\n",
        "  print(f'please pay {c}amount for {a} venilla ice cream')\n",
        "  y=input('had you paind it ?')\n",
        "  if y in ('yes','YES','Yes'):\n",
        "    print('Take it,thank you!')\n",
        "  elif y in ('no','NO','No'):\n",
        "    print('come back with money')\n",
        "  else:\n",
        "    print('enter correctly')\n",
        "\n",
        "def chocolate():\n",
        "  r=100\n",
        "  a= int(input('how much ice cream do u want'))\n",
        "  b=r-a\n",
        "  c=a*25\n",
        "  print(f'please pay {c}amount for {a} chocolate ice cream')\n",
        "  y=input('had you paind it ?')\n",
        "  if y in ('yes','YES','Yes'):\n",
        "    print('Take it,thank you!')\n",
        "  elif y in ('no','NO','No'):\n",
        "    print('come back with money')\n",
        "  else:\n",
        "    print('enter correctly')\n",
        "def customer():\n",
        "\n",
        "  while True:\n",
        "    print('select your favorite flavor of ice cream:')\n",
        "    need=input('1.orange  2.straberry 3.venilla. 4chocolate:')\n",
        "    if need == '1':\n",
        "      orange()\n",
        "      break\n",
        "    elif need == '2':\n",
        "      straberry()\n",
        "      break\n",
        "    elif need == '3':\n",
        "      venilla()\n",
        "      break\n",
        "    elif need == '4':\n",
        "      chocolate()\n",
        "      break\n",
        "    else:\n",
        "      print('enter the right option:')\n",
        "    break\n",
        "def product():\n",
        "  print('wait')\n",
        "\n",
        "def details():\n",
        "  data=input('select 1 for owner:\\n select 2 for customer')\n",
        "  if data in ('1'):\n",
        "    product()\n",
        "  elif data in ('2'):\n",
        "    customer()\n",
        "\n",
        "details()"
      ],
      "metadata": {
        "id": "K7DYBXZEClrA",
        "colab": {
          "base_uri": "https://localhost:8080/"
        },
        "outputId": "2b701ba0-e48a-4859-fc7a-bec97caec778"
      },
      "execution_count": null,
      "outputs": [
        {
          "output_type": "stream",
          "name": "stdout",
          "text": [
            "anjanadri ice cream shop\n",
            "select 1 for owner:\n",
            " select 2 for customer2\n",
            "select your favorite flavor of ice cream:\n",
            "1.orange  2.straberry 3.venilla. 4chocolate:4\n",
            "how much ice cream do u want8\n",
            "please pay 200amount for 8 chocolate ice cream\n",
            "had you paind it ?Yes\n",
            "Take it,thank you!\n"
          ]
        }
      ]
    },
    {
      "cell_type": "markdown",
      "source": [
        "#LIBRARIAN MANAGMENT"
      ],
      "metadata": {
        "id": "9mLLEuS3mgZw"
      }
    },
    {
      "cell_type": "code",
      "source": [
        "from datetime import datetime, timedelta\n",
        "\n",
        "# Data structures to store information\n",
        "books = {\n",
        "    'Computer Science': [\n",
        "        {'title': 'Introduction to Algorithms', 'copies': 15},\n",
        "        {'title': 'Artificial Intelligence: A Modern Approach', 'copies': 25},\n",
        "        {'title': 'Computer Networks', 'copies': 34},\n",
        "        {'title': 'Operating System Concepts', 'copies': 19},\n",
        "        {'title': 'Structure and Interpretation of Computer Programs', 'copies': 13},\n",
        "        {'title': 'The C Programming Language', 'copies': 11},\n",
        "        {'title': 'Computer Organization and Design: The Hardware/Software Interface', 'copies': 22},\n",
        "        {'title': 'Compilers: Principles, Techniques, and Tools', 'copies': 17},\n",
        "        {'title': 'Introduction to the Theory of Computation', 'copies': 34},\n",
        "        {'title': 'Database System Concepts', 'copies': 8}\n",
        "    ],\n",
        "    'Mechanical Engineering': [\n",
        "        {'title': 'Engineering Mechanics', 'copies': 10},\n",
        "        {'title': 'Thermodynamics', 'copies': 5},\n",
        "        {'title': 'Engineering Mechanics: Statics', 'copies': 11},\n",
        "        {'title': 'Engineering Mechanics: Dynamics', 'copies': 9},\n",
        "        {'title': 'Mechanical Engineering Design', 'copies': 33},\n",
        "        {'title': 'Fundamentals of Thermodynamics', 'copies': 23},\n",
        "        {'title': 'Introduction to Fluid Mechanics', 'copies': 32},\n",
        "        {'title': 'Materials Science and Engineering: An Introduction', 'copies': 1},\n",
        "        {'title': 'Heat Transfer', 'copies': 17},\n",
        "        {'title': 'Manufacturing Engineering and Technology', 'copies': 27}\n",
        "    ],\n",
        "    'Information Science': [\n",
        "        {'title': 'Data Structures and Algorithms', 'copies': 8},\n",
        "        {'title': 'Database System Concepts', 'copies': 3},\n",
        "        {'title': 'Introduction to Information Retrieval', 'copies': 13},\n",
        "        {'title': 'Modern Information Retrieval: The Concepts and Technology behind Search', 'copies': 18},\n",
        "        {'title': 'Database System Concepts', 'copies': 32},\n",
        "        {'title': 'Data Management for Researchers: Organize, Maintain and Share Your Data for Research Success', 'copies': 8},\n",
        "        {'title': 'Information Storage and Retrieval Systems: Theory and Implementation', 'copies': 1},\n",
        "        {'title': 'The Information: A History, a Theory, a Flood', 'copies': 32},\n",
        "        {'title': 'Introduction to Data Science: Data Analysis and Prediction Algorithms with R', 'copies': 23},\n",
        "        {'title': 'Handbook of Information Science', 'copies': 32}\n",
        "    ],\n",
        "    'Artificial Intelligence': [\n",
        "        {'title': 'Machine Learning', 'copies': 7},\n",
        "        {'title': 'Deep Learning', 'copies': 2},\n",
        "        {'title': 'Artificial Intelligence: A Modern Approach', 'copies': 21},\n",
        "        {'title': 'Pattern Recognition and Machine Learning', 'copies': 22},\n",
        "        {'title': 'Machine Learning: A Probabilistic Perspective', 'copies': 18},\n",
        "        {'title': 'Natural Language Processing with Python', 'copies': 11},\n",
        "        {'title': 'Reinforcement Learning: An Introduction', 'copies': 11},\n",
        "        {'title': 'Artificial Intelligence for Humans', 'copies': 11},\n",
        "        {'title': 'Introduction to Machine Learning with Python: A Guide for Data Scientists', 'copies': 32},\n",
        "        {'title': 'Foundations of Machine Learning', 'copies': 12},\n",
        "        {'title': 'Hands-On Machine Learning with Scikit-Learn, Keras, and TensorFlow', 'copies': 20}\n",
        "    ],\n",
        "    'Electrical Engineering': [\n",
        "        {'title': 'Circuit Analysis', 'copies': 10},\n",
        "        {'title': 'Electromagnetics', 'copies': 15},\n",
        "        {'title': 'Fundamentals of Electric Circuits', 'copies': 12},\n",
        "        {'title': 'Electrical Engineering', 'copies': 23},\n",
        "        {'title': 'Control Systems Engineering', 'copies': 2},\n",
        "        {'title': 'Power System Analysis and Design', 'copies': 9},\n",
        "        {'title': 'Digital Design and Computer Architecture', 'copies': 16},\n",
        "        {'title': 'Signals and Systems', 'copies': 16},\n",
        "        {'title': 'Communication Systems', 'copies': 11},\n",
        "        {'title': 'Electromagnetic Fields and Waves', 'copies': 3}\n",
        "    ],\n",
        "    'Robotics Engineering': [\n",
        "        {'title': 'Introduction to Robotics', 'copies': 6},\n",
        "        {'title': 'Robotics: Control and Sensing', 'copies': 4},\n",
        "        {'title': 'Introduction to Autonomous Robots: Mechanisms, Sensors, Actuators, and Algorithms', 'copies': 9},\n",
        "        {'title': 'Robotics: Modelling, Planning, and Control', 'copies': 7},\n",
        "        {'title': 'Robotics: Principles and Practice', 'copies': 9},\n",
        "        {'title': 'Robot Operating System (ROS)', 'copies': 12},\n",
        "        {'title': 'Robotics: State of the Art and Future Challenges', 'copies': 11},\n",
        "        {'title': 'Modern Robotics: Mechanics, Planning, and Control', 'copies': 12},\n",
        "        {'title': 'Introduction to Robotics: Analysis, Control, Applications', 'copies': 43},\n",
        "        {'title': 'Hands-On Robotics with Arduino: Build and Program Your Own Robots Using Arduino', 'copies': 13}\n",
        "    ]\n",
        "}\n",
        "\n",
        "\n",
        "students = {}\n",
        "librarian_password = 'admin123'\n",
        "\n",
        "def student_login():\n",
        "    print(\"Student Login\")\n",
        "    student_id = input(\"Enter Student USN: \")\n",
        "    if student_id not in students:\n",
        "        students[student_id] = {'borrowed_books': [], 'history': []}\n",
        "\n",
        "    while True:\n",
        "        print(\"\\n1. Show All Books\")\n",
        "        print(\"2. Borrow Book\")\n",
        "        print(\"3. Return Book\")\n",
        "        print(\"4. View Borrow History\")\n",
        "        print(\"5. Logout\")\n",
        "        choice = input(\"Enter choice: \")\n",
        "\n",
        "        if choice == '1':\n",
        "            show_all_books()\n",
        "        elif choice == '2':\n",
        "            borrow_book(student_id)\n",
        "        elif choice == '3':\n",
        "            return_book(student_id)\n",
        "        elif choice == '4':\n",
        "            view_borrow_history(student_id)\n",
        "        elif choice == '5':\n",
        "            break\n",
        "        else:\n",
        "            print(\"Invalid choice, please try again.\")\n",
        "\n",
        "def librarian_login():\n",
        "    password = input(\"Enter Librarian Password: \")\n",
        "    if password == librarian_password:\n",
        "        while True:\n",
        "            print(\"\\nLibrarian Menu\")\n",
        "            print(\"1. Show All Books\")\n",
        "            print(\"2. View Student Borrow History\")\n",
        "            print(\"3. Logout\")\n",
        "            choice = input(\"Enter choice: \")\n",
        "\n",
        "            if choice == '1':\n",
        "                show_all_books()\n",
        "            elif choice == '2':\n",
        "                student_id = input(\"Enter Student USN : \")\n",
        "                if student_id in students:\n",
        "                    view_borrow_history(student_id)\n",
        "                else:\n",
        "                    print(\"Student not barrow any kind of books.\")\n",
        "            elif choice == '3':\n",
        "                break\n",
        "            else:\n",
        "                print(\"Invalid choice, please try again.\")\n",
        "    else:\n",
        "        print(\"Incorrect password.\")\n",
        "\n",
        "def show_all_books():\n",
        "    print(\"\\nLibrary Books:\")\n",
        "    for section, books_list in books.items():\n",
        "        print(f\"\\n{section}:\")\n",
        "        for book in books_list:\n",
        "            print(f\"  {book['title']} - Copies: {book['copies']}\")\n",
        "\n",
        "def borrow_book(student_id):\n",
        "    section = input(\"Enter the section name: \").lower()  # Convert input to lowercase\n",
        "    if section in [s.lower() for s in books.keys()]:  # Check in lowercase\n",
        "        title = input(\"Enter the book title: \").lower()  # Convert input to lowercase\n",
        "        for book in books[[s for s in books.keys() if s.lower() == section][0]]:  # Find the section\n",
        "            if book['title'].lower() == title:  # Compare book title in lowercase\n",
        "                if book['copies'] > 0:\n",
        "                    if book['copies'] > 20:\n",
        "                        print(\"More than 20 copies available, you need to buy this book.\")\n",
        "                    else:\n",
        "                        book['copies'] -= 1\n",
        "                        borrow_time = datetime.now()\n",
        "                        due_time = borrow_time + timedelta(days=3)\n",
        "                        students[student_id]['borrowed_books'].append({\n",
        "                            'title': book['title'],  # Store the original case\n",
        "                            'section': section.title(),  # Store section name in title case\n",
        "                            'borrow_time': borrow_time,\n",
        "                            'due_time': due_time\n",
        "                        })\n",
        "                        students[student_id]['history'].append({\n",
        "                            'title': book['title'],\n",
        "                            'section': section.title(),\n",
        "                            'borrow_time': borrow_time,\n",
        "                            'due_time': due_time,\n",
        "                            'returned': False\n",
        "                        })\n",
        "                        print(f\"You have borrowed this book  '{book['title']}'. you should return this book within {due_time}.\")\n",
        "                else:\n",
        "                    print(\"Book is not available.\")\n",
        "                return\n",
        "        print(\"Book not found.\")\n",
        "    else:\n",
        "        print(\"Section not found.\")\n",
        "\n",
        "def return_book(student_id):\n",
        "    title = input(\"Enter the title of the book which you want to return: \").lower()  # Convert input to lowercase\n",
        "    borrowed_books = students[student_id]['borrowed_books']\n",
        "\n",
        "    for book in borrowed_books:\n",
        "        if book['title'].lower() == title:  # Compare book title in lowercase\n",
        "            borrowed_books.remove(book)\n",
        "            section = book['section'].lower()  # Convert section name to lowercase\n",
        "            for lib_book in books[[s for s in books.keys() if s.lower() == section][0]]:\n",
        "                if lib_book['title'].lower() == title:  # Compare title in lowercase\n",
        "                    lib_book['copies'] += 1\n",
        "                    break\n",
        "\n",
        "            return_time = datetime.now()\n",
        "            overdue_days = (return_time - book['due_time']).days\n",
        "            if overdue_days > 0:\n",
        "                charges = overdue_days * 500\n",
        "                print(f\"Book returned late by {overdue_days} days. Overdue charges: {charges} rupees.\")\n",
        "            else:\n",
        "                print(\"Book returned on time.\")\n",
        "\n",
        "            for history_entry in students[student_id]['history']:\n",
        "                if history_entry['title'].lower() == title and not history_entry['returned']:\n",
        "                    history_entry['returned'] = True\n",
        "                    history_entry['return_time'] = return_time\n",
        "                    break\n",
        "            return\n",
        "    print(\"You have not. borrowed this book.\")\n",
        "\n",
        "\n",
        "def view_borrow_history(student_id):\n",
        "    print(\"\\nBorrow History:\")\n",
        "    history = students[student_id]['history']\n",
        "    if history:\n",
        "        for entry in history:\n",
        "            status = \"Returned\" if entry.get('returned', False) else \"Not Returned\"\n",
        "            print(f\"{entry['title']} (Section: {entry['section']}) - Borrowed on {entry['borrow_time']}, Due on {entry['due_time']} - {status}\")\n",
        "    else:\n",
        "        print(\"Not borrowed any kind of books.\")\n",
        "\n",
        "def main():\n",
        "    while True:\n",
        "        print(\"\\nLibrary Management System\")\n",
        "        print(\"1. Student Login\")\n",
        "        print(\"2. Librarian Login\")\n",
        "        print(\"3. Exit\")\n",
        "        choice = input(\"Enter choice: \")\n",
        "\n",
        "        if choice == '1':\n",
        "            student_login()\n",
        "        elif choice == '2':\n",
        "            librarian_login()\n",
        "        elif choice == '3':\n",
        "            break\n",
        "        else:\n",
        "            print(\"Invalid choice, please try again.\")\n",
        "\n",
        "if __name__ == \"__main__\":\n",
        "    main()"
      ],
      "metadata": {
        "id": "sdt00Chrp6dS",
        "colab": {
          "base_uri": "https://localhost:8080/"
        },
        "outputId": "6d1f86c3-f097-4964-b94a-01fc27331096"
      },
      "execution_count": null,
      "outputs": [
        {
          "name": "stdout",
          "output_type": "stream",
          "text": [
            "\n",
            "Library Management System\n",
            "1. Student Login\n",
            "2. Librarian Login\n",
            "3. Exit\n",
            "Enter choice: 3\n"
          ]
        }
      ]
    },
    {
      "cell_type": "code",
      "source": [
        "import gradio as gr\n",
        "\n",
        "# Expense tracker app were we use linear search and binary search\n",
        "transactions = [\n",
        " {\"date\": \"2024-08-01\", \"amount\": 50.0, \"description\": \"Groceries\"},\n",
        " {\"date\": \"2024-08-02\", \"amount\": 20.0, \"description\": \"Bus fare\"},\n",
        " {\"date\": \"2024-08-03\", \"amount\": 100.0, \"description\": \"Electricity bill\"},\n",
        " {\"date\": \"2024-08-04\", \"amount\": 200.0, \"description\": \"New shoes\"},\n",
        "]\n",
        "# linear search for transaction by date\n",
        "def search_by_date(target_date):\n",
        "  for transaction in transactions:\n",
        "    if transaction[\"date\"] == target_date:\n",
        "      return transaction\n",
        "  return \"transaction not found\"\n",
        "\n",
        "#binary search for a pirticular transaction or expense by amount\n",
        "def search_by_amount(traget_amount):\n",
        "  transactions.sort(key = lambda x: x[\"amount\"])\n",
        "  #in the the transactions array we use the sort method sort\n",
        "  #the amount key value in all the dictonaries in the transactions\n",
        "  # array .and we also use the lambda function which is a small\n",
        "  # anonymous function which is used to take any number of arguments\n",
        "  # inside the function in this case we are fetching all of the\n",
        "  # amount values as arguments\n",
        "  left = 0\n",
        "  right = len(transactions) - 1\n",
        "\n",
        "  while left <= right:\n",
        "    mid = (left + right) // 2\n",
        "    if transactions[mid][\"amount\"] == traget_amount:\n",
        "      return transactions[mid]\n",
        "    elif transactions[mid][\"amount\"] < traget_amount:\n",
        "      left = mid\n",
        "    else:\n",
        "      right = mid - 1\n",
        "  return \"transactions not found\"\n",
        "print(search_by_amount(50.0))\n",
        "\n",
        "#adding a new expense\n",
        "def add_expense(date,amount,description):\n",
        "  new_transaction = {\"date\":date,\"amount\":amount,\"description\":description}\n",
        "  transactions.append(new_transaction)\n",
        "  return \"expense added sucessfully!\"\n",
        "\n",
        "# checking amount by description\n",
        "def total_spent_by_description(description):\n",
        "  total_spent = sum(transaction[\"amount\"] for transaction in transactions if transaction[\"description\"].lower() == description.lower())\n",
        "  if total_spent > 0:\n",
        "    return{\"Description :\" : description, \"total_spent: \": total_spent}\n",
        "  else:\n",
        "    return \"No Expenses were found for this description in the transactions\"\n",
        "# displaying all of the expenses\n",
        "\n",
        "def display_all_expenses():\n",
        "  if transactions:\n",
        "    return transactions\n",
        "  else:\n",
        "    return \"no transactions available\"\n",
        "\n",
        "# building a gradio interface for our expense tracker application\n",
        "with gr.Blocks() as demo:\n",
        "  gr.Markdown(\"# Expense Tracker\")\n",
        "\n",
        "  with gr.Tab(\"Search By Date\"):\n",
        "    date_input = gr.Textbox(label = \"Enter Date (YYYY-MM-DD)\")\n",
        "    # json is javascript object notation which is a text based format of storing strings\n",
        "    date_output = gr.JSON(label=\"Result\")\n",
        "    gr.Button(\"Search\").click(fn=search_by_date, inputs=date_input ,outputs = date_output)\n",
        "\n",
        "  with gr.Tab(\"Search By Amount\"):\n",
        "    amount_input = gr.Number(label = \"Enter amount\")\n",
        "    # json is javascript object notation which is a text based format of storing strings\n",
        "    amount_output = gr.JSON(label=\"Result\")\n",
        "    gr.Button(\"Search\").click(fn=search_by_amount, inputs=amount_input ,outputs=amount_output)\n",
        "\n",
        "  with gr.Tab(\"Add a new Expense\"):\n",
        "    date_input = gr.Textbox(label = \"Enter Date (YYYY-MM-DD)\")\n",
        "    amount_input = gr.Number(label = \"Enter amount\")\n",
        "    description_input = gr.Textbox(label=\"enter the description\")\n",
        "    add_output = gr.Textbox(label = \"status\")\n",
        "    gr.Button(\"Add Expense\").click(fn=add_expense,inputs=[date_input,amount_input,description_input],outputs=add_output)\n",
        "\n",
        "  with gr.Tab(\"Display All Expenses\"):\n",
        "    all_expenses_output = gr.JSON(label=\"All Expenses\")\n",
        "    gr.Button(\"Show All Expenses\").click(fn=display_all_expenses, outputs=all_expenses_output)\n",
        "\n",
        "\n",
        "\n",
        "demo.launch()\n",
        "\n"
      ],
      "metadata": {
        "colab": {
          "base_uri": "https://localhost:8080/",
          "height": 662
        },
        "id": "mVSR3IoUNSBJ",
        "outputId": "12d14a7d-9046-4c0c-c005-d9039920dc92"
      },
      "execution_count": null,
      "outputs": [
        {
          "output_type": "stream",
          "name": "stdout",
          "text": [
            "{'date': '2024-08-01', 'amount': 50.0, 'description': 'Groceries'}\n",
            "Setting queue=True in a Colab notebook requires sharing enabled. Setting `share=True` (you can turn this off by setting `share=False` in `launch()` explicitly).\n",
            "\n",
            "Colab notebook detected. To show errors in colab notebook, set debug=True in launch()\n",
            "Running on public URL: https://25f00a3734902d0f19.gradio.live\n",
            "\n",
            "This share link expires in 72 hours. For free permanent hosting and GPU upgrades, run `gradio deploy` from Terminal to deploy to Spaces (https://huggingface.co/spaces)\n"
          ]
        },
        {
          "output_type": "display_data",
          "data": {
            "text/plain": [
              "<IPython.core.display.HTML object>"
            ],
            "text/html": [
              "<div><iframe src=\"https://25f00a3734902d0f19.gradio.live\" width=\"100%\" height=\"500\" allow=\"autoplay; camera; microphone; clipboard-read; clipboard-write;\" frameborder=\"0\" allowfullscreen></iframe></div>"
            ]
          },
          "metadata": {}
        },
        {
          "output_type": "execute_result",
          "data": {
            "text/plain": []
          },
          "metadata": {},
          "execution_count": 43
        }
      ]
    },
    {
      "cell_type": "markdown",
      "source": [
        "PIZZA BILLING SYSTEM"
      ],
      "metadata": {
        "id": "chOfpDZ6RIwP"
      }
    },
    {
      "cell_type": "code",
      "source": [
        "# pizza billing system\n",
        "\n",
        "class Pizza:\n",
        "  def __init__(self,size,toppings):\n",
        "    self.size = size\n",
        "    self.toppings = toppings\n",
        "  def cal_price(self):\n",
        "    base_price = 0\n",
        "    if self.size == \"small\":\n",
        "      base_price = 10\n",
        "    elif self.size == \"mediam\":\n",
        "      base_price =15\n",
        "    elif self.size == \"large\":\n",
        "      base_price = 20\n",
        "    else:\n",
        "      print(\"Enter Correctly\")\n",
        "\n",
        "    topping_price = len(self.toppings) * 2\n",
        "\n",
        "    total_price = base_price + topping_price\n",
        "    return total_price\n",
        "def main():\n",
        "  print(\"Welcome to Anjanadri Pizza Shop \")\n",
        "  size = input(\"Enter the Size of the Pizza you want(small,large,medium) \")\n",
        "  toppings = input(\"Enter The Number of toppings You want \")\n",
        "  toppings = [toppings.strip() for topping in toppings]\n",
        "\n",
        "  pizza = Pizza(size,toppings)\n",
        "  Price = pizza.cal_price()\n",
        "  print(f\"Total price for your pizza is $ {Price}\")\n",
        "\n",
        "if __name__ == \"__main__\":\n",
        "  main()\n",
        "\n",
        "\n",
        "\n",
        "\n"
      ],
      "metadata": {
        "colab": {
          "base_uri": "https://localhost:8080/"
        },
        "id": "f3pUqvh_sRT0",
        "outputId": "62e019bc-d797-4da8-d9c5-c42d529020ef"
      },
      "execution_count": 65,
      "outputs": [
        {
          "output_type": "stream",
          "name": "stdout",
          "text": [
            "Welcome to Anjanadri Pizza Shop \n",
            "Enter the Size of the Pizza you want(small,large,medium) large\n",
            "Enter The Number of toppings You want 5\n",
            "Total price for your pizza is $ 22\n"
          ]
        }
      ]
    },
    {
      "cell_type": "code",
      "source": [
        "\n",
        "class Node:\n",
        "  def __init__(self,data):\n",
        "    self.data = data\n",
        "    self.next = None\n",
        "node1 = Node(10)\n",
        "node2 = Node(20)\n",
        "node3 = Node(30)\n",
        "\n",
        "node1.next = node2\n",
        "node2.next = node3\n",
        "\n",
        "current = node1\n",
        "\n",
        "while current:\n",
        "\n",
        "  print(current.data)\n",
        "  current = current.next"
      ],
      "metadata": {
        "colab": {
          "base_uri": "https://localhost:8080/"
        },
        "id": "H6AKexdjpFYo",
        "outputId": "633474b6-7cec-47e1-eeba-e06aeebfc043"
      },
      "execution_count": 64,
      "outputs": [
        {
          "output_type": "stream",
          "name": "stdout",
          "text": [
            "10\n",
            "20\n",
            "30\n"
          ]
        }
      ]
    },
    {
      "cell_type": "code",
      "source": [
        "class TrainCar:\n",
        "  def __init__(self,passengers):\n",
        "    self.passengers = passengers\n",
        "    self.next = None\n",
        "boghi1 = TrainCar(50)\n",
        "boghi2 = TrainCar(40)\n",
        "boghi3 = TrainCar(30)\n",
        "\n",
        "boghi1.next = boghi2\n",
        "boghi2.next = boghi3\n",
        "\n",
        "current_boghi = boghi1\n",
        "while current_boghi:\n",
        "  print(f'passengers in this train are :{current_boghi.passengers}')\n",
        "  current_boghi = current_boghi.next"
      ],
      "metadata": {
        "colab": {
          "base_uri": "https://localhost:8080/"
        },
        "id": "5O2hP-I9tX31",
        "outputId": "e41551cd-a6d6-4c12-eaa3-145761f957f8"
      },
      "execution_count": 1,
      "outputs": [
        {
          "output_type": "stream",
          "name": "stdout",
          "text": [
            "passengers in this train are :50\n",
            "passengers in this train are :40\n",
            "passengers in this train are :30\n"
          ]
        }
      ]
    },
    {
      "cell_type": "markdown",
      "source": [
        "BINARY SEARCH TREE:\n",
        "its a hirarchy data structure which is used to rganize data"
      ],
      "metadata": {
        "id": "ll-irnl_yFf8"
      }
    },
    {
      "cell_type": "code",
      "source": [
        "\n"
      ],
      "metadata": {
        "id": "FS9tmYDBvExw"
      },
      "execution_count": null,
      "outputs": []
    }
  ]
}